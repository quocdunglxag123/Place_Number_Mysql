{
 "cells": [
  {
   "cell_type": "code",
   "execution_count": 35,
   "id": "e50e07cb",
   "metadata": {},
   "outputs": [
    {
     "ename": "DataError",
     "evalue": "1406 (22001): Data too long for column 'number_plate' at row 1",
     "output_type": "error",
     "traceback": [
      "\u001b[1;31m---------------------------------------------------------------------------\u001b[0m",
      "\u001b[1;31mMySQLInterfaceError\u001b[0m                       Traceback (most recent call last)",
      "\u001b[1;32mD:\\Project\\python3.7\\lib\\site-packages\\mysql\\connector\\connection_cext.py\u001b[0m in \u001b[0;36mcmd_query\u001b[1;34m(self, query, raw, buffered, raw_as_string)\u001b[0m\n\u001b[0;32m    559\u001b[0m                 \u001b[0mraw_as_string\u001b[0m\u001b[1;33m=\u001b[0m\u001b[0mraw_as_string\u001b[0m\u001b[1;33m,\u001b[0m\u001b[1;33m\u001b[0m\u001b[1;33m\u001b[0m\u001b[0m\n\u001b[1;32m--> 560\u001b[1;33m                 \u001b[0mquery_attrs\u001b[0m\u001b[1;33m=\u001b[0m\u001b[0mself\u001b[0m\u001b[1;33m.\u001b[0m\u001b[0m_query_attrs\u001b[0m\u001b[1;33m,\u001b[0m\u001b[1;33m\u001b[0m\u001b[1;33m\u001b[0m\u001b[0m\n\u001b[0m\u001b[0;32m    561\u001b[0m             )\n",
      "\u001b[1;31mMySQLInterfaceError\u001b[0m: Data too long for column 'number_plate' at row 1",
      "\nThe above exception was the direct cause of the following exception:\n",
      "\u001b[1;31mDataError\u001b[0m                                 Traceback (most recent call last)",
      "\u001b[1;32m~\\AppData\\Local\\Temp\\ipykernel_9812\\3914657519.py\u001b[0m in \u001b[0;36m<module>\u001b[1;34m\u001b[0m\n\u001b[0;32m     16\u001b[0m \u001b[0mval\u001b[0m \u001b[1;33m=\u001b[0m \u001b[1;33m(\u001b[0m\u001b[1;34m\"Ram123311111\"\u001b[0m\u001b[1;33m,\u001b[0m \u001b[0mformatted_date\u001b[0m\u001b[1;33m)\u001b[0m\u001b[1;33m\u001b[0m\u001b[1;33m\u001b[0m\u001b[0m\n\u001b[0;32m     17\u001b[0m \u001b[1;33m\u001b[0m\u001b[0m\n\u001b[1;32m---> 18\u001b[1;33m \u001b[0mmycursorInsert\u001b[0m\u001b[1;33m.\u001b[0m\u001b[0mexecute\u001b[0m\u001b[1;33m(\u001b[0m\u001b[0msql\u001b[0m\u001b[1;33m,\u001b[0m \u001b[0mval\u001b[0m\u001b[1;33m)\u001b[0m\u001b[1;33m\u001b[0m\u001b[1;33m\u001b[0m\u001b[0m\n\u001b[0m\u001b[0;32m     19\u001b[0m \u001b[0mmydb\u001b[0m\u001b[1;33m.\u001b[0m\u001b[0mcommit\u001b[0m\u001b[1;33m(\u001b[0m\u001b[1;33m)\u001b[0m\u001b[1;33m\u001b[0m\u001b[1;33m\u001b[0m\u001b[0m\n\u001b[0;32m     20\u001b[0m \u001b[1;33m\u001b[0m\u001b[0m\n",
      "\u001b[1;32mD:\\Project\\python3.7\\lib\\site-packages\\mysql\\connector\\cursor_cext.py\u001b[0m in \u001b[0;36mexecute\u001b[1;34m(self, operation, params, multi)\u001b[0m\n\u001b[0;32m    278\u001b[0m                 \u001b[0mraw\u001b[0m\u001b[1;33m=\u001b[0m\u001b[0mself\u001b[0m\u001b[1;33m.\u001b[0m\u001b[0m_raw\u001b[0m\u001b[1;33m,\u001b[0m\u001b[1;33m\u001b[0m\u001b[1;33m\u001b[0m\u001b[0m\n\u001b[0;32m    279\u001b[0m                 \u001b[0mbuffered\u001b[0m\u001b[1;33m=\u001b[0m\u001b[0mself\u001b[0m\u001b[1;33m.\u001b[0m\u001b[0m_buffered\u001b[0m\u001b[1;33m,\u001b[0m\u001b[1;33m\u001b[0m\u001b[1;33m\u001b[0m\u001b[0m\n\u001b[1;32m--> 280\u001b[1;33m                 \u001b[0mraw_as_string\u001b[0m\u001b[1;33m=\u001b[0m\u001b[0mself\u001b[0m\u001b[1;33m.\u001b[0m\u001b[0m_raw_as_string\u001b[0m\u001b[1;33m,\u001b[0m\u001b[1;33m\u001b[0m\u001b[1;33m\u001b[0m\u001b[0m\n\u001b[0m\u001b[0;32m    281\u001b[0m             )\n\u001b[0;32m    282\u001b[0m         \u001b[1;32mexcept\u001b[0m \u001b[0mMySQLInterfaceError\u001b[0m \u001b[1;32mas\u001b[0m \u001b[0merr\u001b[0m\u001b[1;33m:\u001b[0m\u001b[1;33m\u001b[0m\u001b[1;33m\u001b[0m\u001b[0m\n",
      "\u001b[1;32mD:\\Project\\python3.7\\lib\\site-packages\\mysql\\connector\\connection_cext.py\u001b[0m in \u001b[0;36mcmd_query\u001b[1;34m(self, query, raw, buffered, raw_as_string)\u001b[0m\n\u001b[0;32m    563\u001b[0m             raise get_mysql_exception(\n\u001b[0;32m    564\u001b[0m                 \u001b[0merr\u001b[0m\u001b[1;33m.\u001b[0m\u001b[0merrno\u001b[0m\u001b[1;33m,\u001b[0m \u001b[0mmsg\u001b[0m\u001b[1;33m=\u001b[0m\u001b[0merr\u001b[0m\u001b[1;33m.\u001b[0m\u001b[0mmsg\u001b[0m\u001b[1;33m,\u001b[0m \u001b[0msqlstate\u001b[0m\u001b[1;33m=\u001b[0m\u001b[0merr\u001b[0m\u001b[1;33m.\u001b[0m\u001b[0msqlstate\u001b[0m\u001b[1;33m\u001b[0m\u001b[1;33m\u001b[0m\u001b[0m\n\u001b[1;32m--> 565\u001b[1;33m             ) from err\n\u001b[0m\u001b[0;32m    566\u001b[0m         \u001b[1;32mexcept\u001b[0m \u001b[0mAttributeError\u001b[0m \u001b[1;32mas\u001b[0m \u001b[0merr\u001b[0m\u001b[1;33m:\u001b[0m\u001b[1;33m\u001b[0m\u001b[1;33m\u001b[0m\u001b[0m\n\u001b[0;32m    567\u001b[0m             addr = (\n",
      "\u001b[1;31mDataError\u001b[0m: 1406 (22001): Data too long for column 'number_plate' at row 1"
     ]
    }
   ],
   "source": [
    "import mysql.connector\n",
    "from datetime import date\n",
    "\n",
    "  \n",
    "mydb = mysql.connector.connect(\n",
    "  host = \"localhost\",\n",
    "  user = \"root\",\n",
    "  password = \"quocdung\",\n",
    "  database = \"numberplate\"\n",
    ") \n",
    "  \n",
    "mycursorInsert = mydb.cursor()\n",
    "b= date.today()\n",
    "formatted_date = b.strftime('%Y-%m-%d')\n",
    "sql = \"INSERT INTO Infor_Vehicel_in (number_plate, time_in) VALUES (%s, %s)\"\n",
    "val = (\"Ram123311111\", formatted_date)\n",
    "  \n",
    "mycursorInsert.execute(sql, val)\n",
    "mydb.commit()\n",
    "  \n",
    "print(mycursorInsert.rowcount, \"details inserted\")\n",
    "  \n",
    "# disconnecting from server\n"
   ]
  },
  {
   "cell_type": "code",
   "execution_count": 54,
   "id": "9f32bdc8",
   "metadata": {},
   "outputs": [
    {
     "name": "stdout",
     "output_type": "stream",
     "text": [
      "Bien So Xe: abc Va  Gia Tien = 811\n"
     ]
    }
   ],
   "source": [
    " mycursorGet = mydb.cursor()\n",
    "# selecting query\n",
    "query = \"SELECT * FROM Infor_Vehicel_in where number_plate='Ram12'\"\n",
    "mycursorGet.execute(query)\n",
    " \n",
    "myresult = mycursorGet.fetchall()\n",
    "\n",
    "dt1 = date(2020, 7, 21)\n",
    "\n",
    "\n",
    "if not myresult:\n",
    "    print('Empty list')\n",
    "else:\n",
    "    for x in myresult:\n",
    "        dateindb = x[2]\n",
    "    \n",
    "    datestay= date.today() - dt1\n",
    "    price = datestay.days + 1\n",
    "    b= 'abc'\n",
    "    c= 'Bien So Xe: '+ b + ' Va  Gia Tien = ' +str(price)\n",
    "    print(c)\n",
    "# disconnecting from server\n"
   ]
  },
  {
   "cell_type": "code",
   "execution_count": 29,
   "id": "c8ba1948",
   "metadata": {},
   "outputs": [
    {
     "name": "stdout",
     "output_type": "stream",
     "text": [
      "details inserted\n"
     ]
    }
   ],
   "source": [
    "print(\"details inserted\")\n",
    "mydb.close()\n"
   ]
  },
  {
   "cell_type": "code",
   "execution_count": 38,
   "id": "5474c6d3",
   "metadata": {},
   "outputs": [
    {
     "name": "stdout",
     "output_type": "stream",
     "text": [
      "2020-07-21\n"
     ]
    }
   ],
   "source": []
  },
  {
   "cell_type": "code",
   "execution_count": null,
   "id": "fc563d22",
   "metadata": {},
   "outputs": [],
   "source": [
    " # Connect to sql_server\n",
    "    import mysql.connector\n",
    "    from datetime import date\n",
    "  \n",
    "    mydb = mysql.connector.connect(\n",
    "      host = \"localhost\",\n",
    "      user = \"root\",\n",
    "      password = \"quocdung\",\n",
    "      database = \"numberplate\"\n",
    "    ) \n",
    "    # Insert Number Plate\n",
    "    mycursor = mydb.cursor()\n",
    "    b= date.today()\n",
    "    formatted_date = b.strftime('%Y-%m-%d')\n",
    "    sql = \"INSERT INTO Infor_Vehicel_in (number_plate, time_in) VALUES (%s, %s)\"\n",
    "    val = (plate_info, formatted_date)\n",
    "  \n",
    "    mycursor.execute(sql, val)\n",
    "    mydb.commit()\n",
    "  \n",
    "    print(mycursor.rowcount, \"details inserted\")\n",
    "  \n",
    "    # disconnecting from server\n",
    "    mydb.close()"
   ]
  },
  {
   "cell_type": "code",
   "execution_count": null,
   "id": "6450dcfd",
   "metadata": {},
   "outputs": [],
   "source": []
  },
  {
   "cell_type": "code",
   "execution_count": 64,
   "id": "da45a9d8",
   "metadata": {},
   "outputs": [
    {
     "name": "stdout",
     "output_type": "stream",
     "text": [
      "C:\\Users\\lyquo\\Pictures\\Camera Roll\\WIN_20221009_14_07_16_Pro.jpg\n"
     ]
    }
   ],
   "source": [
    "import glob\n",
    "import os.path\n",
    "\n",
    "folder_path = r'C:\\Users\\lyquo\\Pictures\\Camera Roll'\n",
    "file_type = r'\\*jpg'\n",
    "files = glob.glob(folder_path + file_type)\n",
    "if not files:\n",
    "    print('Folder Empty!')\n",
    "else:\n",
    "    max_file = max(files, key=os.path.getctime)\n",
    "    print(max_file)"
   ]
  },
  {
   "cell_type": "code",
   "execution_count": 19,
   "id": "f091470e",
   "metadata": {},
   "outputs": [
    {
     "name": "stdout",
     "output_type": "stream",
     "text": [
      "success Delete image\n"
     ]
    }
   ],
   "source": [
    "import os\n",
    "if os.path.isfile(max_file):\n",
    "    os.remove(max_file)\n",
    "    print(\"success Delete image\")\n",
    "else:    \n",
    "    print(\"File doesn't exists!\")"
   ]
  },
  {
   "cell_type": "code",
   "execution_count": 73,
   "id": "0f6c0e10",
   "metadata": {},
   "outputs": [
    {
     "name": "stdout",
     "output_type": "stream",
     "text": [
      "C:\\Users\\lyquo\\Pictures\\Camera Roll\\WIN_20221009_14_37_51_Pro.jpg\n"
     ]
    }
   ],
   "source": [
    "folder_path = r'C:\\Users\\lyquo\\Pictures\\Camera Roll'\n",
    "file_type = r'\\*jpg'\n",
    "files = glob.glob(folder_path + file_type)\n",
    "if not files:\n",
    "    print('Image Not Found!')\n",
    "else:\n",
    "    max_file = max(files, key=os.path.getctime)\n",
    "    print(max_file)\n",
    "    oldpath = max_file\n",
    "    newpath = Path(r'C:\\Users\\lyquo\\Pictures\\Camera Roll', '/', 'Users' + '.jpg')\n",
    "    os.rename(oldpath, newpath) "
   ]
  },
  {
   "cell_type": "code",
   "execution_count": 61,
   "id": "b6505e00",
   "metadata": {},
   "outputs": [
    {
     "name": "stdout",
     "output_type": "stream",
     "text": [
      "C:\\Users.jpg\n"
     ]
    }
   ],
   "source": [
    "from pathlib import Path\n",
    "a=Path('C:', '/', 'Users' + '.jpg')\n",
    "print(a)"
   ]
  },
  {
   "cell_type": "code",
   "execution_count": null,
   "id": "94555711",
   "metadata": {},
   "outputs": [],
   "source": [
    "\n",
    "import os\n",
    "\n",
    "oldpath = './user/user.txt'\n",
    "newpath = './infor/user_infor.txt'\n",
    "os.rename(oldpath, newpath) "
   ]
  }
 ],
 "metadata": {
  "kernelspec": {
   "display_name": "Python 3 (ipykernel)",
   "language": "python",
   "name": "python3"
  },
  "language_info": {
   "codemirror_mode": {
    "name": "ipython",
    "version": 3
   },
   "file_extension": ".py",
   "mimetype": "text/x-python",
   "name": "python",
   "nbconvert_exporter": "python",
   "pygments_lexer": "ipython3",
   "version": "3.7.4"
  }
 },
 "nbformat": 4,
 "nbformat_minor": 5
}
